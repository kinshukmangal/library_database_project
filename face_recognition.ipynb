{
 "cells": [
  {
   "cell_type": "code",
   "execution_count": 24,
   "id": "573566a0-1680-48f4-a091-2c5a9a9d1d81",
   "metadata": {},
   "outputs": [
    {
     "name": "stdout",
     "output_type": "stream",
     "text": [
      "Look at the camera. Press SPACE to capture your face.\n",
      "✅ Image captured: captured_face.jpg\n",
      "\n",
      "📊 DeepFace Result: {'verified': True, 'distance': 0.5295469145527932, 'threshold': 0.68, 'model': 'VGG-Face', 'detector_backend': 'opencv', 'similarity_metric': 'cosine', 'facial_areas': {'img1': {'x': 316, 'y': 122, 'w': 184, 'h': 184, 'left_eye': None, 'right_eye': None}, 'img2': {'x': 268, 'y': 701, 'w': 438, 'h': 438, 'left_eye': (572, 877), 'right_eye': (393, 881)}}, 'time': 2.06}\n",
      "✅ Access Granted\n"
     ]
    }
   ],
   "source": [
    "import cv2\n",
    "from deepface import DeepFace\n",
    "import os\n",
    "import webbrowser\n",
    "\n",
    "# 📸 Step 1: Capture image from webcam\n",
    "cam = cv2.VideoCapture(0)\n",
    "cv2.namedWindow(\"📷 Face Capture\")\n",
    "img_name = \"captured_face.jpg\"\n",
    "\n",
    "print(\"Look at the camera. Press SPACE to capture your face.\")\n",
    "\n",
    "while True:\n",
    "    ret, frame = cam.read()\n",
    "    if not ret:\n",
    "        print(\"Failed to grab frame.\")\n",
    "        break\n",
    "    cv2.imshow(\"📷 Face Capture\", frame)\n",
    "\n",
    "    k = cv2.waitKey(1)\n",
    "    if k % 256 == 32:  # SPACE pressed\n",
    "        cv2.imwrite(img_name, frame)\n",
    "        print(f\"✅ Image captured: {img_name}\")\n",
    "        break\n",
    "\n",
    "cam.release()\n",
    "cv2.destroyAllWindows()\n",
    "\n",
    "# 🧠 Step 2: Compare with known image\n",
    "known_img = \"known_face.jpg\"\n",
    "\n",
    "if not os.path.exists(known_img):\n",
    "    print(\"⚠️ Error: 'known_face.jpg' not found. Place your known image in the same folder.\")\n",
    "else:\n",
    "    try:\n",
    "        result = DeepFace.verify(img1_path=img_name, img2_path=known_img, enforce_detection=True)\n",
    "        print(\"\\n📊 DeepFace Result:\", result)\n",
    "\n",
    "        if result[\"verified\"]:\n",
    "            print(\"✅ Access Granted\")\n",
    "            webbrowser.open(\"https://www.google.com\")  # Replace with your desired URL\n",
    "        else:\n",
    "            print(\"❌ Access Denied\")\n",
    "\n",
    "    except Exception as e:\n",
    "        print(\"⚠️ Error during face verification:\", e)"
   ]
  },
  {
   "cell_type": "code",
   "execution_count": null,
   "id": "850f3359-ffba-4623-91dd-5757819d8d59",
   "metadata": {},
   "outputs": [],
   "source": []
  },
  {
   "cell_type": "code",
   "execution_count": null,
   "id": "11e8837a-7def-495b-b717-e366a21b9e42",
   "metadata": {},
   "outputs": [],
   "source": []
  }
 ],
 "metadata": {
  "kernelspec": {
   "display_name": "Python 3 (ipykernel)",
   "language": "python",
   "name": "python3"
  },
  "language_info": {
   "codemirror_mode": {
    "name": "ipython",
    "version": 3
   },
   "file_extension": ".py",
   "mimetype": "text/x-python",
   "name": "python",
   "nbconvert_exporter": "python",
   "pygments_lexer": "ipython3",
   "version": "3.9.20"
  }
 },
 "nbformat": 4,
 "nbformat_minor": 5
}
